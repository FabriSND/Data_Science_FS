{
 "cells": [
  {
   "cell_type": "code",
   "execution_count": 1,
   "metadata": {},
   "outputs": [],
   "source": [
    "import pandas as pd \n",
    "import matplotlib as mpl\n",
    "import matplotlib.pyplot as plt\n",
    "import seaborn as sns\n"
   ]
  },
  {
   "cell_type": "markdown",
   "metadata": {},
   "source": [
    "Importacion de librerias necesarias para el desarrollo del proyeccto."
   ]
  },
  {
   "cell_type": "code",
   "execution_count": 2,
   "metadata": {},
   "outputs": [
    {
     "data": {
      "text/html": [
       "<div>\n",
       "<style scoped>\n",
       "    .dataframe tbody tr th:only-of-type {\n",
       "        vertical-align: middle;\n",
       "    }\n",
       "\n",
       "    .dataframe tbody tr th {\n",
       "        vertical-align: top;\n",
       "    }\n",
       "\n",
       "    .dataframe thead th {\n",
       "        text-align: right;\n",
       "    }\n",
       "</style>\n",
       "<table border=\"1\" class=\"dataframe\">\n",
       "  <thead>\n",
       "    <tr style=\"text-align: right;\">\n",
       "      <th></th>\n",
       "      <th>WEEKOFMONTH</th>\n",
       "      <th>DAYOFWEEK</th>\n",
       "      <th>MAKE</th>\n",
       "      <th>ACCIDENTAREA</th>\n",
       "      <th>DAYOFWEEKCLAIMED</th>\n",
       "      <th>MONTHCLAIMED</th>\n",
       "      <th>WEEKOFMONTHCLAIMED</th>\n",
       "      <th>SEX</th>\n",
       "      <th>MARITALSTATUS</th>\n",
       "      <th>FAULT</th>\n",
       "      <th>...</th>\n",
       "      <th>AGEOFVEHICLE</th>\n",
       "      <th>AGEOFPOLICYHOLDER</th>\n",
       "      <th>POLICEREPORTFILED</th>\n",
       "      <th>WITNESSPRESENT</th>\n",
       "      <th>AGENTTYPE</th>\n",
       "      <th>NUMBEROFSUPPLIMENTS</th>\n",
       "      <th>ADDRESSCHANGECLAIM</th>\n",
       "      <th>NUMBEROFCARS</th>\n",
       "      <th>BASEPOLICY</th>\n",
       "      <th>FRAUDFOUND</th>\n",
       "    </tr>\n",
       "  </thead>\n",
       "  <tbody>\n",
       "    <tr>\n",
       "      <th>0</th>\n",
       "      <td>1</td>\n",
       "      <td>Friday</td>\n",
       "      <td>Honda</td>\n",
       "      <td>Rural</td>\n",
       "      <td>Friday</td>\n",
       "      <td>Dec</td>\n",
       "      <td>3</td>\n",
       "      <td>Male</td>\n",
       "      <td>Single</td>\n",
       "      <td>PolicyHolder</td>\n",
       "      <td>...</td>\n",
       "      <td>new</td>\n",
       "      <td>16to17</td>\n",
       "      <td>No</td>\n",
       "      <td>No</td>\n",
       "      <td>External</td>\n",
       "      <td>none</td>\n",
       "      <td>nochange</td>\n",
       "      <td>1vehicle</td>\n",
       "      <td>AllPerils</td>\n",
       "      <td>Yes</td>\n",
       "    </tr>\n",
       "    <tr>\n",
       "      <th>1</th>\n",
       "      <td>2</td>\n",
       "      <td>Friday</td>\n",
       "      <td>Honda</td>\n",
       "      <td>Urban</td>\n",
       "      <td>Friday</td>\n",
       "      <td>Jun</td>\n",
       "      <td>4</td>\n",
       "      <td>Male</td>\n",
       "      <td>Single</td>\n",
       "      <td>PolicyHolder</td>\n",
       "      <td>...</td>\n",
       "      <td>new</td>\n",
       "      <td>16to17</td>\n",
       "      <td>No</td>\n",
       "      <td>No</td>\n",
       "      <td>External</td>\n",
       "      <td>none</td>\n",
       "      <td>nochange</td>\n",
       "      <td>1vehicle</td>\n",
       "      <td>AllPerils</td>\n",
       "      <td>No</td>\n",
       "    </tr>\n",
       "    <tr>\n",
       "      <th>2</th>\n",
       "      <td>5</td>\n",
       "      <td>Monday</td>\n",
       "      <td>Honda</td>\n",
       "      <td>Urban</td>\n",
       "      <td>Friday</td>\n",
       "      <td>Apr</td>\n",
       "      <td>1</td>\n",
       "      <td>Male</td>\n",
       "      <td>Single</td>\n",
       "      <td>ThirdParty</td>\n",
       "      <td>...</td>\n",
       "      <td>new</td>\n",
       "      <td>16to17</td>\n",
       "      <td>No</td>\n",
       "      <td>No</td>\n",
       "      <td>External</td>\n",
       "      <td>none</td>\n",
       "      <td>4to8years</td>\n",
       "      <td>2vehicles</td>\n",
       "      <td>Collision</td>\n",
       "      <td>Yes</td>\n",
       "    </tr>\n",
       "    <tr>\n",
       "      <th>3</th>\n",
       "      <td>4</td>\n",
       "      <td>Sunday</td>\n",
       "      <td>Honda</td>\n",
       "      <td>Urban</td>\n",
       "      <td>Friday</td>\n",
       "      <td>Sep</td>\n",
       "      <td>1</td>\n",
       "      <td>Male</td>\n",
       "      <td>Single</td>\n",
       "      <td>PolicyHolder</td>\n",
       "      <td>...</td>\n",
       "      <td>new</td>\n",
       "      <td>16to17</td>\n",
       "      <td>No</td>\n",
       "      <td>No</td>\n",
       "      <td>External</td>\n",
       "      <td>none</td>\n",
       "      <td>nochange</td>\n",
       "      <td>1vehicle</td>\n",
       "      <td>Collision</td>\n",
       "      <td>Yes</td>\n",
       "    </tr>\n",
       "    <tr>\n",
       "      <th>4</th>\n",
       "      <td>2</td>\n",
       "      <td>Tuesday</td>\n",
       "      <td>Honda</td>\n",
       "      <td>Urban</td>\n",
       "      <td>Friday</td>\n",
       "      <td>Jan</td>\n",
       "      <td>4</td>\n",
       "      <td>Male</td>\n",
       "      <td>Single</td>\n",
       "      <td>PolicyHolder</td>\n",
       "      <td>...</td>\n",
       "      <td>new</td>\n",
       "      <td>16to17</td>\n",
       "      <td>No</td>\n",
       "      <td>No</td>\n",
       "      <td>External</td>\n",
       "      <td>none</td>\n",
       "      <td>nochange</td>\n",
       "      <td>1vehicle</td>\n",
       "      <td>AllPerils</td>\n",
       "      <td>Yes</td>\n",
       "    </tr>\n",
       "  </tbody>\n",
       "</table>\n",
       "<p>5 rows × 29 columns</p>\n",
       "</div>"
      ],
      "text/plain": [
       "   WEEKOFMONTH DAYOFWEEK   MAKE ACCIDENTAREA DAYOFWEEKCLAIMED MONTHCLAIMED  \\\n",
       "0            1    Friday  Honda        Rural           Friday          Dec   \n",
       "1            2    Friday  Honda        Urban           Friday          Jun   \n",
       "2            5    Monday  Honda        Urban           Friday          Apr   \n",
       "3            4    Sunday  Honda        Urban           Friday          Sep   \n",
       "4            2   Tuesday  Honda        Urban           Friday          Jan   \n",
       "\n",
       "   WEEKOFMONTHCLAIMED   SEX MARITALSTATUS         FAULT  ... AGEOFVEHICLE  \\\n",
       "0                   3  Male        Single  PolicyHolder  ...          new   \n",
       "1                   4  Male        Single  PolicyHolder  ...          new   \n",
       "2                   1  Male        Single    ThirdParty  ...          new   \n",
       "3                   1  Male        Single  PolicyHolder  ...          new   \n",
       "4                   4  Male        Single  PolicyHolder  ...          new   \n",
       "\n",
       "  AGEOFPOLICYHOLDER  POLICEREPORTFILED  WITNESSPRESENT  AGENTTYPE  \\\n",
       "0            16to17                 No              No   External   \n",
       "1            16to17                 No              No   External   \n",
       "2            16to17                 No              No   External   \n",
       "3            16to17                 No              No   External   \n",
       "4            16to17                 No              No   External   \n",
       "\n",
       "   NUMBEROFSUPPLIMENTS ADDRESSCHANGECLAIM NUMBEROFCARS BASEPOLICY FRAUDFOUND  \n",
       "0                 none           nochange     1vehicle  AllPerils        Yes  \n",
       "1                 none           nochange     1vehicle  AllPerils         No  \n",
       "2                 none          4to8years    2vehicles  Collision        Yes  \n",
       "3                 none           nochange     1vehicle  Collision        Yes  \n",
       "4                 none           nochange     1vehicle  AllPerils        Yes  \n",
       "\n",
       "[5 rows x 29 columns]"
      ]
     },
     "execution_count": 2,
     "metadata": {},
     "output_type": "execute_result"
    }
   ],
   "source": [
    "Df_fraudes_crudo = pd.read_csv('CLAIMS0.csv')\n",
    "Df_fraudes_crudo.head(5)"
   ]
  },
  {
   "cell_type": "markdown",
   "metadata": {},
   "source": [
    "Traemos a la notebook la base de datos sobre la que se realizara el modelo."
   ]
  },
  {
   "cell_type": "code",
   "execution_count": 3,
   "metadata": {},
   "outputs": [
    {
     "data": {
      "text/html": [
       "<div>\n",
       "<style scoped>\n",
       "    .dataframe tbody tr th:only-of-type {\n",
       "        vertical-align: middle;\n",
       "    }\n",
       "\n",
       "    .dataframe tbody tr th {\n",
       "        vertical-align: top;\n",
       "    }\n",
       "\n",
       "    .dataframe thead th {\n",
       "        text-align: right;\n",
       "    }\n",
       "</style>\n",
       "<table border=\"1\" class=\"dataframe\">\n",
       "  <thead>\n",
       "    <tr style=\"text-align: right;\">\n",
       "      <th></th>\n",
       "      <th>WEEKOFMONTH</th>\n",
       "      <th>DAYOFWEEK</th>\n",
       "      <th>MAKE</th>\n",
       "      <th>ACCIDENTAREA</th>\n",
       "      <th>DAYOFWEEKCLAIMED</th>\n",
       "      <th>MONTHCLAIMED</th>\n",
       "      <th>WEEKOFMONTHCLAIMED</th>\n",
       "      <th>SEX</th>\n",
       "      <th>MARITALSTATUS</th>\n",
       "      <th>FAULT</th>\n",
       "      <th>...</th>\n",
       "      <th>AGEOFVEHICLE</th>\n",
       "      <th>AGEOFPOLICYHOLDER</th>\n",
       "      <th>POLICEREPORTFILED</th>\n",
       "      <th>WITNESSPRESENT</th>\n",
       "      <th>AGENTTYPE</th>\n",
       "      <th>NUMBEROFSUPPLIMENTS</th>\n",
       "      <th>ADDRESSCHANGECLAIM</th>\n",
       "      <th>NUMBEROFCARS</th>\n",
       "      <th>BASEPOLICY</th>\n",
       "      <th>FRAUDFOUND</th>\n",
       "    </tr>\n",
       "  </thead>\n",
       "  <tbody>\n",
       "    <tr>\n",
       "      <th>0</th>\n",
       "      <td>1</td>\n",
       "      <td>Friday</td>\n",
       "      <td>Honda</td>\n",
       "      <td>Rural</td>\n",
       "      <td>Friday</td>\n",
       "      <td>Dec</td>\n",
       "      <td>3</td>\n",
       "      <td>Male</td>\n",
       "      <td>Single</td>\n",
       "      <td>PolicyHolder</td>\n",
       "      <td>...</td>\n",
       "      <td>new</td>\n",
       "      <td>16to17</td>\n",
       "      <td>No</td>\n",
       "      <td>No</td>\n",
       "      <td>External</td>\n",
       "      <td>none</td>\n",
       "      <td>nochange</td>\n",
       "      <td>1vehicle</td>\n",
       "      <td>AllPerils</td>\n",
       "      <td>Yes</td>\n",
       "    </tr>\n",
       "    <tr>\n",
       "      <th>1</th>\n",
       "      <td>2</td>\n",
       "      <td>Friday</td>\n",
       "      <td>Honda</td>\n",
       "      <td>Urban</td>\n",
       "      <td>Friday</td>\n",
       "      <td>Jun</td>\n",
       "      <td>4</td>\n",
       "      <td>Male</td>\n",
       "      <td>Single</td>\n",
       "      <td>PolicyHolder</td>\n",
       "      <td>...</td>\n",
       "      <td>new</td>\n",
       "      <td>16to17</td>\n",
       "      <td>No</td>\n",
       "      <td>No</td>\n",
       "      <td>External</td>\n",
       "      <td>none</td>\n",
       "      <td>nochange</td>\n",
       "      <td>1vehicle</td>\n",
       "      <td>AllPerils</td>\n",
       "      <td>No</td>\n",
       "    </tr>\n",
       "    <tr>\n",
       "      <th>2</th>\n",
       "      <td>5</td>\n",
       "      <td>Monday</td>\n",
       "      <td>Honda</td>\n",
       "      <td>Urban</td>\n",
       "      <td>Friday</td>\n",
       "      <td>Apr</td>\n",
       "      <td>1</td>\n",
       "      <td>Male</td>\n",
       "      <td>Single</td>\n",
       "      <td>ThirdParty</td>\n",
       "      <td>...</td>\n",
       "      <td>new</td>\n",
       "      <td>16to17</td>\n",
       "      <td>No</td>\n",
       "      <td>No</td>\n",
       "      <td>External</td>\n",
       "      <td>none</td>\n",
       "      <td>4to8years</td>\n",
       "      <td>2vehicles</td>\n",
       "      <td>Collision</td>\n",
       "      <td>Yes</td>\n",
       "    </tr>\n",
       "    <tr>\n",
       "      <th>3</th>\n",
       "      <td>4</td>\n",
       "      <td>Sunday</td>\n",
       "      <td>Honda</td>\n",
       "      <td>Urban</td>\n",
       "      <td>Friday</td>\n",
       "      <td>Sep</td>\n",
       "      <td>1</td>\n",
       "      <td>Male</td>\n",
       "      <td>Single</td>\n",
       "      <td>PolicyHolder</td>\n",
       "      <td>...</td>\n",
       "      <td>new</td>\n",
       "      <td>16to17</td>\n",
       "      <td>No</td>\n",
       "      <td>No</td>\n",
       "      <td>External</td>\n",
       "      <td>none</td>\n",
       "      <td>nochange</td>\n",
       "      <td>1vehicle</td>\n",
       "      <td>Collision</td>\n",
       "      <td>Yes</td>\n",
       "    </tr>\n",
       "    <tr>\n",
       "      <th>4</th>\n",
       "      <td>2</td>\n",
       "      <td>Tuesday</td>\n",
       "      <td>Honda</td>\n",
       "      <td>Urban</td>\n",
       "      <td>Friday</td>\n",
       "      <td>Jan</td>\n",
       "      <td>4</td>\n",
       "      <td>Male</td>\n",
       "      <td>Single</td>\n",
       "      <td>PolicyHolder</td>\n",
       "      <td>...</td>\n",
       "      <td>new</td>\n",
       "      <td>16to17</td>\n",
       "      <td>No</td>\n",
       "      <td>No</td>\n",
       "      <td>External</td>\n",
       "      <td>none</td>\n",
       "      <td>nochange</td>\n",
       "      <td>1vehicle</td>\n",
       "      <td>AllPerils</td>\n",
       "      <td>Yes</td>\n",
       "    </tr>\n",
       "  </tbody>\n",
       "</table>\n",
       "<p>5 rows × 29 columns</p>\n",
       "</div>"
      ],
      "text/plain": [
       "   WEEKOFMONTH DAYOFWEEK   MAKE ACCIDENTAREA DAYOFWEEKCLAIMED MONTHCLAIMED  \\\n",
       "0            1    Friday  Honda        Rural           Friday          Dec   \n",
       "1            2    Friday  Honda        Urban           Friday          Jun   \n",
       "2            5    Monday  Honda        Urban           Friday          Apr   \n",
       "3            4    Sunday  Honda        Urban           Friday          Sep   \n",
       "4            2   Tuesday  Honda        Urban           Friday          Jan   \n",
       "\n",
       "   WEEKOFMONTHCLAIMED   SEX MARITALSTATUS         FAULT  ... AGEOFVEHICLE  \\\n",
       "0                   3  Male        Single  PolicyHolder  ...          new   \n",
       "1                   4  Male        Single  PolicyHolder  ...          new   \n",
       "2                   1  Male        Single    ThirdParty  ...          new   \n",
       "3                   1  Male        Single  PolicyHolder  ...          new   \n",
       "4                   4  Male        Single  PolicyHolder  ...          new   \n",
       "\n",
       "  AGEOFPOLICYHOLDER  POLICEREPORTFILED  WITNESSPRESENT  AGENTTYPE  \\\n",
       "0            16to17                 No              No   External   \n",
       "1            16to17                 No              No   External   \n",
       "2            16to17                 No              No   External   \n",
       "3            16to17                 No              No   External   \n",
       "4            16to17                 No              No   External   \n",
       "\n",
       "   NUMBEROFSUPPLIMENTS ADDRESSCHANGECLAIM NUMBEROFCARS BASEPOLICY FRAUDFOUND  \n",
       "0                 none           nochange     1vehicle  AllPerils        Yes  \n",
       "1                 none           nochange     1vehicle  AllPerils         No  \n",
       "2                 none          4to8years    2vehicles  Collision        Yes  \n",
       "3                 none           nochange     1vehicle  Collision        Yes  \n",
       "4                 none           nochange     1vehicle  AllPerils        Yes  \n",
       "\n",
       "[5 rows x 29 columns]"
      ]
     },
     "execution_count": 3,
     "metadata": {},
     "output_type": "execute_result"
    }
   ],
   "source": [
    "Df_fraudes_crudo.index\n",
    "Df_fraudes_crudo.head(5)"
   ]
  },
  {
   "cell_type": "markdown",
   "metadata": {},
   "source": [
    "Agregamos un indice para mejorar la manejabilidad de los datos."
   ]
  },
  {
   "cell_type": "markdown",
   "metadata": {},
   "source": [
    "Preparcion, limpieza y procesamiento de datos. (objetivo: aumentar la manejabilidad y facilidad de comprension de los datos)"
   ]
  },
  {
   "cell_type": "code",
   "execution_count": 4,
   "metadata": {},
   "outputs": [
    {
     "data": {
      "text/plain": [
       "array(['more than 69_000', '20_000 to 29_000', 'less than 20_000',\n",
       "       '30_000 to 39_000', '40_000 to 59_000', '60_000 to 69_000'],\n",
       "      dtype=object)"
      ]
     },
     "execution_count": 4,
     "metadata": {},
     "output_type": "execute_result"
    }
   ],
   "source": [
    "Df_fraudes_crudo['VEHICLEPRICE'].unique()"
   ]
  },
  {
   "cell_type": "code",
   "execution_count": 5,
   "metadata": {},
   "outputs": [
    {
     "data": {
      "text/plain": [
       "0        very_high\n",
       "1        very_high\n",
       "2        very_high\n",
       "3        very_high\n",
       "4        very_high\n",
       "           ...    \n",
       "1777           low\n",
       "1778        medium\n",
       "1779        medium\n",
       "1780        medium\n",
       "1781    medium_low\n",
       "Name: VEHICLEPRICE, Length: 1782, dtype: object"
      ]
     },
     "execution_count": 5,
     "metadata": {},
     "output_type": "execute_result"
    }
   ],
   "source": [
    "Df_fraudes_crudo['VEHICLEPRICE'] = Df_fraudes_crudo['VEHICLEPRICE'].replace({\n",
    "    'more than 69_000':'very_high',\n",
    "    '60_000 to 69_000':'high',\n",
    "    '40_000 to 59_000':'medium_high',\n",
    "    '30_000 to 39_000':'medium',\n",
    "    '20_000 to 29_000': 'medium_low',\n",
    "    'less than 20_000':'low'\n",
    "\n",
    "})\n",
    "Df_fraudes_crudo['VEHICLEPRICE']"
   ]
  },
  {
   "cell_type": "code",
   "execution_count": 6,
   "metadata": {},
   "outputs": [
    {
     "data": {
      "text/plain": [
       "array(['very_high', 'medium_low', 'low', 'medium', 'medium_high', 'high'],\n",
       "      dtype=object)"
      ]
     },
     "execution_count": 6,
     "metadata": {},
     "output_type": "execute_result"
    }
   ],
   "source": [
    "Df_fraudes_crudo['VEHICLEPRICE'].unique()"
   ]
  },
  {
   "cell_type": "markdown",
   "metadata": {},
   "source": [
    "Arreglamos los datos de la columna 'VehiclePrice' de una forma mas entendible y manejable."
   ]
  },
  {
   "cell_type": "code",
   "execution_count": 7,
   "metadata": {},
   "outputs": [
    {
     "data": {
      "text/plain": [
       "array(['none', '1', '2to4', 'morethan4'], dtype=object)"
      ]
     },
     "execution_count": 7,
     "metadata": {},
     "output_type": "execute_result"
    }
   ],
   "source": [
    "Df_fraudes_crudo['PASTNUMBEROFCLAIMS'].unique()"
   ]
  },
  {
   "cell_type": "code",
   "execution_count": 8,
   "metadata": {},
   "outputs": [
    {
     "data": {
      "text/plain": [
       "array(['0', '1', '3', '5'], dtype=object)"
      ]
     },
     "execution_count": 8,
     "metadata": {},
     "output_type": "execute_result"
    }
   ],
   "source": [
    "Df_fraudes_crudo['PASTNUMBEROFCLAIMS'] = Df_fraudes_crudo['PASTNUMBEROFCLAIMS'].replace({\n",
    "    'none':'0',\n",
    "    '2to4':'3',\n",
    "    'morethan4':'5'\n",
    "})\n",
    "Df_fraudes_crudo['PASTNUMBEROFCLAIMS'].unique()"
   ]
  },
  {
   "cell_type": "code",
   "execution_count": 9,
   "metadata": {},
   "outputs": [
    {
     "data": {
      "text/plain": [
       "array(['16to17', '18to20', '21to25', '26to30', '31to35', '36to40',\n",
       "       '41to50', '51to65', 'over65'], dtype=object)"
      ]
     },
     "execution_count": 9,
     "metadata": {},
     "output_type": "execute_result"
    }
   ],
   "source": [
    "Df_fraudes_crudo['AGEOFPOLICYHOLDER'].unique()"
   ]
  },
  {
   "cell_type": "code",
   "execution_count": 10,
   "metadata": {},
   "outputs": [
    {
     "data": {
      "text/plain": [
       "array(['minor', 'juvenile', '25', '30', '35', '40', 'mature', 'old',\n",
       "       'retired'], dtype=object)"
      ]
     },
     "execution_count": 10,
     "metadata": {},
     "output_type": "execute_result"
    }
   ],
   "source": [
    "Df_fraudes_crudo['AGEOFPOLICYHOLDER']= Df_fraudes_crudo['AGEOFPOLICYHOLDER'].replace({\n",
    "    '16to17':'minor',\n",
    "    '18to20':'juvenile',\n",
    "    '21to25':'25',\n",
    "    '26to30':'30',\n",
    "    '31to35':'35',\n",
    "    '36to40':'40',\n",
    "    '41to50':'mature',\n",
    "    '51to65':'old',\n",
    "    'over65':'retired'\n",
    "})\n",
    "Df_fraudes_crudo['AGEOFPOLICYHOLDER'].unique()"
   ]
  },
  {
   "cell_type": "code",
   "execution_count": 11,
   "metadata": {},
   "outputs": [
    {
     "data": {
      "text/plain": [
       "array(['nochange', '4to8years', '1year', '2to3years', 'under6months'],\n",
       "      dtype=object)"
      ]
     },
     "execution_count": 11,
     "metadata": {},
     "output_type": "execute_result"
    }
   ],
   "source": [
    "Df_fraudes_crudo['ADDRESSCHANGECLAIM'].unique()"
   ]
  },
  {
   "cell_type": "code",
   "execution_count": 12,
   "metadata": {},
   "outputs": [
    {
     "data": {
      "text/plain": [
       "array(['0', '4', '1', '2', '0.5'], dtype=object)"
      ]
     },
     "execution_count": 12,
     "metadata": {},
     "output_type": "execute_result"
    }
   ],
   "source": [
    "Df_fraudes_crudo['ADDRESSCHANGECLAIM']=Df_fraudes_crudo['ADDRESSCHANGECLAIM'].replace({\n",
    "    'nochange':'0',\n",
    "    '4to8years':'4',\n",
    "    '1year':'1',\n",
    "    '2to3years':'2',\n",
    "    'under6months':'0.5'\n",
    "})\n",
    "Df_fraudes_crudo['ADDRESSCHANGECLAIM'].unique()"
   ]
  },
  {
   "cell_type": "code",
   "execution_count": 13,
   "metadata": {},
   "outputs": [
    {
     "data": {
      "text/plain": [
       "array(['1vehicle', '2vehicles', '3to4', '5to8'], dtype=object)"
      ]
     },
     "execution_count": 13,
     "metadata": {},
     "output_type": "execute_result"
    }
   ],
   "source": [
    "Df_fraudes_crudo['NUMBEROFCARS'].unique()"
   ]
  },
  {
   "cell_type": "code",
   "execution_count": 14,
   "metadata": {},
   "outputs": [
    {
     "data": {
      "text/plain": [
       "array(['1', '2', '4', '6'], dtype=object)"
      ]
     },
     "execution_count": 14,
     "metadata": {},
     "output_type": "execute_result"
    }
   ],
   "source": [
    "Df_fraudes_crudo['NUMBEROFCARS']=Df_fraudes_crudo['NUMBEROFCARS'].replace({\n",
    "    '1vehicle':'1',\n",
    "    '2vehicles':'2',\n",
    "    '3to4':'4',\n",
    "    '5to8':'6'\n",
    "})\n",
    "Df_fraudes_crudo['NUMBEROFCARS'].unique()"
   ]
  },
  {
   "cell_type": "code",
   "execution_count": 15,
   "metadata": {},
   "outputs": [
    {
     "data": {
      "text/plain": [
       "array(['none', 'morethan5', '1to2', '3to5'], dtype=object)"
      ]
     },
     "execution_count": 15,
     "metadata": {},
     "output_type": "execute_result"
    }
   ],
   "source": [
    "Df_fraudes_crudo['NUMBEROFSUPPLIMENTS'].unique()"
   ]
  },
  {
   "cell_type": "code",
   "execution_count": 16,
   "metadata": {},
   "outputs": [
    {
     "data": {
      "text/plain": [
       "0       0\n",
       "1       0\n",
       "2       0\n",
       "3       0\n",
       "4       0\n",
       "       ..\n",
       "1777    6\n",
       "1778    0\n",
       "1779    0\n",
       "1780    6\n",
       "1781    6\n",
       "Name: NUMBEROFSUPPLIMENTS, Length: 1782, dtype: object"
      ]
     },
     "execution_count": 16,
     "metadata": {},
     "output_type": "execute_result"
    }
   ],
   "source": [
    "Df_fraudes_crudo['NUMBEROFSUPPLIMENTS'] = Df_fraudes_crudo['NUMBEROFSUPPLIMENTS'].replace({\n",
    "'none':'0',\n",
    "'1to2':'1',\n",
    "'3to5':'3',\n",
    "'morethan5':'6'\n",
    "})\n",
    "Df_fraudes_crudo['NUMBEROFSUPPLIMENTS']"
   ]
  },
  {
   "cell_type": "code",
   "execution_count": 17,
   "metadata": {},
   "outputs": [
    {
     "data": {
      "text/plain": [
       "0       0\n",
       "1       0\n",
       "2       0\n",
       "3       0\n",
       "4       0\n",
       "       ..\n",
       "1777    6\n",
       "1778    0\n",
       "1779    0\n",
       "1780    6\n",
       "1781    6\n",
       "Name: NUMBEROFSUPPLIMENTS, Length: 1782, dtype: int64"
      ]
     },
     "execution_count": 17,
     "metadata": {},
     "output_type": "execute_result"
    }
   ],
   "source": [
    "Df_fraudes_crudo['NUMBEROFSUPPLIMENTS'] = Df_fraudes_crudo['NUMBEROFSUPPLIMENTS'].astype(int)\n",
    "Df_fraudes_crudo['NUMBEROFSUPPLIMENTS']"
   ]
  },
  {
   "cell_type": "markdown",
   "metadata": {},
   "source": [
    "Replicamos el proceso para la columna PastNumberOfClaims, AgeOfPolicyHolder, AdressChangeClaim, NumberOfCars, NumberOfSuppliments."
   ]
  },
  {
   "cell_type": "markdown",
   "metadata": {},
   "source": [
    "Deteccion de Outliers"
   ]
  },
  {
   "cell_type": "code",
   "execution_count": 18,
   "metadata": {},
   "outputs": [
    {
     "data": {
      "image/png": "[encoded data removed]",
      "text/plain": [
       "<Figure size 800x500 with 1 Axes>"
      ]
     },
     "metadata": {},
     "output_type": "display_data"
    }
   ],
   "source": [
    "plt.figure(figsize=(8, 5))\n",
    "sns.boxplot(x=Df_fraudes_crudo['DEDUCTIBLE'])\n",
    "plt.show()"
   ]
  },
  {
   "cell_type": "markdown",
   "metadata": {},
   "source": [
    "Outliers no trascendentes. Se ignorara el calculo."
   ]
  },
  {
   "cell_type": "code",
   "execution_count": 19,
   "metadata": {},
   "outputs": [
    {
     "data": {
      "image/png": "[encoded data removed]",
      "text/plain": [
       "<Figure size 800x500 with 1 Axes>"
      ]
     },
     "metadata": {},
     "output_type": "display_data"
    }
   ],
   "source": [
    "plt.figure(figsize=(8, 5))\n",
    "sns.boxplot(x=Df_fraudes_crudo['NUMBEROFCARS'])\n",
    "plt.show()"
   ]
  },
  {
   "cell_type": "markdown",
   "metadata": {},
   "source": [
    "A primera vista, este outlier si pareciera ser mas trascendente."
   ]
  },
  {
   "cell_type": "markdown",
   "metadata": {},
   "source": [
    "Calculo de outliers con desviacion estandar para la columnas NumberOfCars"
   ]
  },
  {
   "cell_type": "code",
   "execution_count": 20,
   "metadata": {},
   "outputs": [
    {
     "name": "stdout",
     "output_type": "stream",
     "text": [
      "int64\n"
     ]
    }
   ],
   "source": [
    "Df_fraudes_crudo['NUMBEROFCARS'] = Df_fraudes_crudo['NUMBEROFCARS'].astype(int)\n",
    "print(\n",
    "    Df_fraudes_crudo['NUMBEROFCARS'].dtype\n",
    ")"
   ]
  },
  {
   "cell_type": "code",
   "execution_count": 21,
   "metadata": {},
   "outputs": [],
   "source": [
    "media_cantidad_autos = Df_fraudes_crudo['NUMBEROFCARS'].mean()\n",
    "desviacion_cantidad_autos = Df_fraudes_crudo['NUMBEROFCARS'].std()"
   ]
  },
  {
   "cell_type": "code",
   "execution_count": 22,
   "metadata": {},
   "outputs": [],
   "source": [
    "limite_inf = media_cantidad_autos - 3 * desviacion_cantidad_autos\n",
    "limite_sup = media_cantidad_autos + 3 * desviacion_cantidad_autos"
   ]
  },
  {
   "cell_type": "code",
   "execution_count": 23,
   "metadata": {},
   "outputs": [],
   "source": [
    "import numpy as np"
   ]
  },
  {
   "cell_type": "code",
   "execution_count": 24,
   "metadata": {},
   "outputs": [],
   "source": [
    "Df_fraudes_crudo['NUMBEROFCARS'] = np.where(Df_fraudes_crudo['NUMBEROFCARS'] > limite_sup, media_cantidad_autos, Df_fraudes_crudo['NUMBEROFCARS'])\n"
   ]
  },
  {
   "cell_type": "code",
   "execution_count": 25,
   "metadata": {},
   "outputs": [
    {
     "data": {
      "text/plain": [
       "0       1.0\n",
       "1       1.0\n",
       "2       2.0\n",
       "3       1.0\n",
       "4       1.0\n",
       "       ... \n",
       "1777    1.0\n",
       "1778    1.0\n",
       "1779    1.0\n",
       "1780    1.0\n",
       "1781    1.0\n",
       "Name: NUMBEROFCARS, Length: 1782, dtype: float64"
      ]
     },
     "execution_count": 25,
     "metadata": {},
     "output_type": "execute_result"
    }
   ],
   "source": [
    "Df_fraudes_crudo['NUMBEROFCARS']"
   ]
  },
  {
   "cell_type": "code",
   "execution_count": 26,
   "metadata": {},
   "outputs": [
    {
     "data": {
      "image/png": "[encoded data removed]",
      "text/plain": [
       "<Figure size 800x500 with 1 Axes>"
      ]
     },
     "metadata": {},
     "output_type": "display_data"
    }
   ],
   "source": [
    "plt.figure(figsize=(8, 5))\n",
    "sns.boxplot(x=Df_fraudes_crudo['NUMBEROFSUPPLIMENTS'])\n",
    "plt.show()"
   ]
  },
  {
   "cell_type": "markdown",
   "metadata": {},
   "source": [
    "Se encontraron outliers que podrian afectar al analisis dentro de la columna NumberOfSupplimetns. Se procede a una nueva tecnica de deteccion para confirmar la trascendencia de los mismos."
   ]
  },
  {
   "cell_type": "code",
   "execution_count": 27,
   "metadata": {},
   "outputs": [],
   "source": [
    "suppliments_number_mean = Df_fraudes_crudo['NUMBEROFSUPPLIMENTS'].mean()\n",
    "suppliments_number_std = Df_fraudes_crudo['NUMBEROFSUPPLIMENTS'].std()"
   ]
  },
  {
   "cell_type": "code",
   "execution_count": 28,
   "metadata": {},
   "outputs": [],
   "source": [
    "limite_inf_sn = suppliments_number_mean - 3 * suppliments_number_std\n",
    "limite_sup_sn = suppliments_number_mean + 3 * suppliments_number_std"
   ]
  },
  {
   "cell_type": "markdown",
   "metadata": {},
   "source": [
    "No se encontraron anomalias ni datos nulos en el dataset. Por lo que esto concluye con la preparacion de los datos."
   ]
  },
  {
   "cell_type": "markdown",
   "metadata": {},
   "source": [
    "Se procede al analisis explotario inicial."
   ]
  },
  {
   "cell_type": "code",
   "execution_count": 29,
   "metadata": {},
   "outputs": [
    {
     "name": "stdout",
     "output_type": "stream",
     "text": [
      "<class 'pandas.core.frame.DataFrame'>\n",
      "RangeIndex: 1782 entries, 0 to 1781\n",
      "Data columns (total 29 columns):\n",
      " #   Column               Non-Null Count  Dtype  \n",
      "---  ------               --------------  -----  \n",
      " 0   WEEKOFMONTH          1782 non-null   int64  \n",
      " 1   DAYOFWEEK            1782 non-null   object \n",
      " 2   MAKE                 1782 non-null   object \n",
      " 3   ACCIDENTAREA         1782 non-null   object \n",
      " 4   DAYOFWEEKCLAIMED     1782 non-null   object \n",
      " 5   MONTHCLAIMED         1782 non-null   object \n",
      " 6   WEEKOFMONTHCLAIMED   1782 non-null   int64  \n",
      " 7   SEX                  1782 non-null   object \n",
      " 8   MARITALSTATUS        1782 non-null   object \n",
      " 9   FAULT                1782 non-null   object \n",
      " 10  VEHICLECATEGORY      1782 non-null   object \n",
      " 11  VEHICLEPRICE         1782 non-null   object \n",
      " 12  POLICYNUMBER         1782 non-null   int64  \n",
      " 13  REPNUMBER            1782 non-null   int64  \n",
      " 14  DEDUCTIBLE           1782 non-null   int64  \n",
      " 15  DRIVERRATING         1782 non-null   int64  \n",
      " 16  DAYSPOLICYACCIDENT   1782 non-null   object \n",
      " 17  DAYSPOLICYCLAIM      1782 non-null   object \n",
      " 18  PASTNUMBEROFCLAIMS   1782 non-null   object \n",
      " 19  AGEOFVEHICLE         1782 non-null   object \n",
      " 20  AGEOFPOLICYHOLDER    1782 non-null   object \n",
      " 21  POLICEREPORTFILED    1782 non-null   object \n",
      " 22  WITNESSPRESENT       1782 non-null   object \n",
      " 23  AGENTTYPE            1782 non-null   object \n",
      " 24  NUMBEROFSUPPLIMENTS  1782 non-null   int64  \n",
      " 25  ADDRESSCHANGECLAIM   1782 non-null   object \n",
      " 26  NUMBEROFCARS         1782 non-null   float64\n",
      " 27  BASEPOLICY           1782 non-null   object \n",
      " 28  FRAUDFOUND           1782 non-null   object \n",
      "dtypes: float64(1), int64(7), object(21)\n",
      "memory usage: 403.9+ KB\n",
      "None\n"
     ]
    }
   ],
   "source": [
    "print(\n",
    "    Df_fraudes_crudo.info()\n",
    ")"
   ]
  },
  {
   "cell_type": "code",
   "execution_count": 30,
   "metadata": {},
   "outputs": [
    {
     "name": "stdout",
     "output_type": "stream",
     "text": [
      "       DAYOFWEEK     MAKE ACCIDENTAREA DAYOFWEEKCLAIMED MONTHCLAIMED   SEX  \\\n",
      "count       1782     1782         1782             1782         1782  1782   \n",
      "unique         7       15            2                7           12     2   \n",
      "top       Monday  Pontiac        Urban           Monday          Mar  Male   \n",
      "freq         309      432         1565              415          182  1544   \n",
      "\n",
      "       MARITALSTATUS         FAULT VEHICLECATEGORY VEHICLEPRICE  ...  \\\n",
      "count           1782          1782            1782         1782  ...   \n",
      "unique             4             2               3            6  ...   \n",
      "top          Married  PolicyHolder           Sedan   medium_low  ...   \n",
      "freq            1255          1517            1315          839  ...   \n",
      "\n",
      "       DAYSPOLICYCLAIM PASTNUMBEROFCLAIMS AGEOFVEHICLE AGEOFPOLICYHOLDER  \\\n",
      "count             1782               1782         1782              1782   \n",
      "unique               3                  4            8                 9   \n",
      "top         morethan30                  3       7years                35   \n",
      "freq              1769                615          646               667   \n",
      "\n",
      "       POLICEREPORTFILED WITNESSPRESENT AGENTTYPE ADDRESSCHANGECLAIM  \\\n",
      "count               1782           1782      1782               1782   \n",
      "unique                 2              2         2                  5   \n",
      "top                   No             No  External                  0   \n",
      "freq                1749           1776      1765               1632   \n",
      "\n",
      "       BASEPOLICY FRAUDFOUND  \n",
      "count        1782       1782  \n",
      "unique          3          2  \n",
      "top     Collision        Yes  \n",
      "freq          763        923  \n",
      "\n",
      "[4 rows x 21 columns]\n"
     ]
    }
   ],
   "source": [
    "print(\n",
    "    Df_fraudes_crudo.describe(include=object)\n",
    ")"
   ]
  },
  {
   "cell_type": "code",
   "execution_count": 31,
   "metadata": {},
   "outputs": [
    {
     "name": "stdout",
     "output_type": "stream",
     "text": [
      "WEEKOFMONTH\n",
      "3    433\n",
      "2    423\n",
      "1    376\n",
      "4    372\n",
      "5    178\n",
      "Name: count, dtype: int64\n"
     ]
    }
   ],
   "source": [
    "print(Df_fraudes_crudo['WEEKOFMONTH'].value_counts())"
   ]
  },
  {
   "cell_type": "code",
   "execution_count": 32,
   "metadata": {},
   "outputs": [
    {
     "data": {
      "text/plain": [
       "Text(0.5, 1.0, 'Distribucion de reclamos en semanas del mes')"
      ]
     },
     "execution_count": 32,
     "metadata": {},
     "output_type": "execute_result"
    },
    {
     "data": {
      "image/png": "[encoded data removed]",
      "text/plain": [
       "<Figure size 640x480 with 1 Axes>"
      ]
     },
     "metadata": {},
     "output_type": "display_data"
    }
   ],
   "source": [
    "sns.countplot(x='WEEKOFMONTH', data=Df_fraudes_crudo)\n",
    "plt.title('Distribucion de reclamos en semanas del mes')"
   ]
  },
  {
   "cell_type": "code",
   "execution_count": 33,
   "metadata": {},
   "outputs": [
    {
     "name": "stdout",
     "output_type": "stream",
     "text": [
      "DAYOFWEEK\n",
      "Monday       309\n",
      "Friday       290\n",
      "Tuesday      261\n",
      "Thursday     250\n",
      "Saturday     248\n",
      "Wednesday    235\n",
      "Sunday       189\n",
      "Name: count, dtype: int64\n"
     ]
    }
   ],
   "source": [
    "print(Df_fraudes_crudo['DAYOFWEEK'].value_counts())"
   ]
  },
  {
   "cell_type": "code",
   "execution_count": 34,
   "metadata": {},
   "outputs": [
    {
     "data": {
      "text/plain": [
       "Text(0.5, 1.0, 'Distribucion de reclamos por dia de semana')"
      ]
     },
     "execution_count": 34,
     "metadata": {},
     "output_type": "execute_result"
    },
    {
     "data": {
      "image/png": "[encoded data removed]",
      "text/plain": [
       "<Figure size 640x480 with 1 Axes>"
      ]
     },
     "metadata": {},
     "output_type": "display_data"
    }
   ],
   "source": [
    "sns.countplot(x='DAYOFWEEK', data=Df_fraudes_crudo)\n",
    "plt.title('Distribucion de reclamos por dia de semana')"
   ]
  },
  {
   "cell_type": "markdown",
   "metadata": {},
   "source": [
    "Vemos una tendencia (no tan marcada) para reclamos los dias lunes entre la segunda y la tercera semana del mes."
   ]
  },
  {
   "cell_type": "code",
   "execution_count": 35,
   "metadata": {},
   "outputs": [
    {
     "name": "stdout",
     "output_type": "stream",
     "text": [
      "MAKE\n",
      "Pontiac      432\n",
      "Toyota       360\n",
      "Honda        329\n",
      "Mazda        248\n",
      "Chevrolet    196\n",
      "Accura        81\n",
      "Ford          60\n",
      "VW            22\n",
      "Saab          20\n",
      "Mercury       11\n",
      "Dodge          9\n",
      "Saturn         9\n",
      "Mecedes        2\n",
      "Nisson         2\n",
      "BMW            1\n",
      "Name: count, dtype: int64\n"
     ]
    }
   ],
   "source": [
    "print(Df_fraudes_crudo['MAKE'].value_counts())"
   ]
  },
  {
   "cell_type": "code",
   "execution_count": 36,
   "metadata": {},
   "outputs": [
    {
     "data": {
      "text/plain": [
       "Text(0.5, 1.0, 'Distribucion de reclamos por marca del auto')"
      ]
     },
     "execution_count": 36,
     "metadata": {},
     "output_type": "execute_result"
    },
    {
     "data": {
      "image/png": "[encoded data removed]",
      "text/plain": [
       "<Figure size 640x480 with 1 Axes>"
      ]
     },
     "metadata": {},
     "output_type": "display_data"
    }
   ],
   "source": [
    "sns.countplot(x='MAKE', data=Df_fraudes_crudo)\n",
    "plt.title('Distribucion de reclamos por marca del auto')"
   ]
  },
  {
   "cell_type": "markdown",
   "metadata": {},
   "source": [
    "Vemos una clara tendencia de reclamos de usuarios de Pontiac, Toyota y Honda."
   ]
  },
  {
   "cell_type": "code",
   "execution_count": 37,
   "metadata": {},
   "outputs": [
    {
     "name": "stdout",
     "output_type": "stream",
     "text": [
      "ACCIDENTAREA\n",
      "Urban    1565\n",
      "Rural     217\n",
      "Name: count, dtype: int64\n"
     ]
    }
   ],
   "source": [
    "print(Df_fraudes_crudo['ACCIDENTAREA'].value_counts())"
   ]
  },
  {
   "cell_type": "code",
   "execution_count": 38,
   "metadata": {},
   "outputs": [
    {
     "data": {
      "text/plain": [
       "Text(0.5, 1.0, 'Distribucion de reclamos por zona')"
      ]
     },
     "execution_count": 38,
     "metadata": {},
     "output_type": "execute_result"
    },
    {
     "data": {
      "image/png": "[encoded data removed]",
      "text/plain": [
       "<Figure size 640x480 with 1 Axes>"
      ]
     },
     "metadata": {},
     "output_type": "display_data"
    }
   ],
   "source": [
    "sns.countplot(x='ACCIDENTAREA', data=Df_fraudes_crudo)\n",
    "plt.title('Distribucion de reclamos por zona')"
   ]
  },
  {
   "cell_type": "markdown",
   "metadata": {},
   "source": [
    "Hay una marcada tendencia en reclamos realizados desde zonas urbanas."
   ]
  },
  {
   "cell_type": "code",
   "execution_count": 39,
   "metadata": {},
   "outputs": [
    {
     "name": "stdout",
     "output_type": "stream",
     "text": [
      "SEX\n",
      "Male      1544\n",
      "Female     238\n",
      "Name: count, dtype: int64\n"
     ]
    }
   ],
   "source": [
    "print(Df_fraudes_crudo['SEX'].value_counts())"
   ]
  },
  {
   "cell_type": "markdown",
   "metadata": {},
   "source": [
    "Tambien una clara tendencia de reclamos por parte del genero masculino."
   ]
  },
  {
   "cell_type": "code",
   "execution_count": 40,
   "metadata": {},
   "outputs": [
    {
     "name": "stdout",
     "output_type": "stream",
     "text": [
      "VEHICLEPRICE\n",
      "medium_low     839\n",
      "medium         402\n",
      "very_high      309\n",
      "low            168\n",
      "medium_high     52\n",
      "high            12\n",
      "Name: count, dtype: int64\n"
     ]
    }
   ],
   "source": [
    "print(Df_fraudes_crudo['VEHICLEPRICE'].value_counts())"
   ]
  },
  {
   "cell_type": "code",
   "execution_count": 41,
   "metadata": {},
   "outputs": [
    {
     "data": {
      "text/plain": [
       "Text(0.5, 1.0, 'Distribucion de reclamos por valor del auto')"
      ]
     },
     "execution_count": 41,
     "metadata": {},
     "output_type": "execute_result"
    },
    {
     "data": {
      "image/png": "[encoded data removed]",
      "text/plain": [
       "<Figure size 640x480 with 1 Axes>"
      ]
     },
     "metadata": {},
     "output_type": "display_data"
    }
   ],
   "source": [
    "sns.countplot(x='VEHICLEPRICE', data=Df_fraudes_crudo)\n",
    "plt.title('Distribucion de reclamos por valor del auto')"
   ]
  },
  {
   "cell_type": "markdown",
   "metadata": {},
   "source": [
    "Marcada tendencia de reclamos por parte de vehiculos con valor medio bajo."
   ]
  },
  {
   "cell_type": "code",
   "execution_count": 42,
   "metadata": {},
   "outputs": [
    {
     "name": "stdout",
     "output_type": "stream",
     "text": [
      "VEHICLECATEGORY\n",
      "Sedan      1315\n",
      "Sport       402\n",
      "Utility      65\n",
      "Name: count, dtype: int64\n"
     ]
    }
   ],
   "source": [
    "print(Df_fraudes_crudo['VEHICLECATEGORY'].value_counts())"
   ]
  },
  {
   "cell_type": "markdown",
   "metadata": {},
   "source": [
    "Tendencia clara de reclamos por parte de autos 'sedan'."
   ]
  },
  {
   "cell_type": "code",
   "execution_count": 43,
   "metadata": {},
   "outputs": [
    {
     "name": "stdout",
     "output_type": "stream",
     "text": [
      "DRIVERRATING\n",
      "3    470\n",
      "1    455\n",
      "4    452\n",
      "2    405\n",
      "Name: count, dtype: int64\n"
     ]
    }
   ],
   "source": [
    "print(Df_fraudes_crudo['DRIVERRATING'].value_counts())"
   ]
  },
  {
   "cell_type": "markdown",
   "metadata": {},
   "source": [
    "No hay una tendencia clara que indique que el Driver Rating influya."
   ]
  },
  {
   "cell_type": "code",
   "execution_count": 44,
   "metadata": {},
   "outputs": [
    {
     "name": "stdout",
     "output_type": "stream",
     "text": [
      "PASTNUMBEROFCLAIMS\n",
      "3    615\n",
      "0    559\n",
      "1    419\n",
      "5    189\n",
      "Name: count, dtype: int64\n"
     ]
    }
   ],
   "source": [
    "print(Df_fraudes_crudo['PASTNUMBEROFCLAIMS'].value_counts())"
   ]
  },
  {
   "cell_type": "markdown",
   "metadata": {},
   "source": [
    "Hay una tendencia negativa en reclamos por parte de los policy holders con mas de 5 reclamos anteriores."
   ]
  },
  {
   "cell_type": "code",
   "execution_count": 45,
   "metadata": {},
   "outputs": [
    {
     "name": "stdout",
     "output_type": "stream",
     "text": [
      "AGEOFPOLICYHOLDER\n",
      "35          667\n",
      "40          479\n",
      "mature      301\n",
      "old         145\n",
      "30           62\n",
      "retired      59\n",
      "minor        48\n",
      "25           17\n",
      "juvenile      4\n",
      "Name: count, dtype: int64\n"
     ]
    }
   ],
   "source": [
    "print(Df_fraudes_crudo['AGEOFPOLICYHOLDER'].value_counts())"
   ]
  },
  {
   "cell_type": "markdown",
   "metadata": {},
   "source": [
    "Indica que la mayoria de los reclamos son realizados por personas entre 26 a 40 anios."
   ]
  },
  {
   "cell_type": "code",
   "execution_count": 46,
   "metadata": {},
   "outputs": [
    {
     "name": "stdout",
     "output_type": "stream",
     "text": [
      "POLICEREPORTFILED\n",
      "No     1749\n",
      "Yes      33\n",
      "Name: count, dtype: int64\n"
     ]
    }
   ],
   "source": [
    "print(Df_fraudes_crudo['POLICEREPORTFILED'].value_counts())"
   ]
  },
  {
   "cell_type": "markdown",
   "metadata": {},
   "source": [
    "Clara tendencia a falta de peritaje policial."
   ]
  },
  {
   "cell_type": "code",
   "execution_count": 47,
   "metadata": {},
   "outputs": [
    {
     "name": "stdout",
     "output_type": "stream",
     "text": [
      "WITNESSPRESENT\n",
      "No     1776\n",
      "Yes       6\n",
      "Name: count, dtype: int64\n"
     ]
    }
   ],
   "source": [
    "print(Df_fraudes_crudo['WITNESSPRESENT'].value_counts())"
   ]
  },
  {
   "cell_type": "markdown",
   "metadata": {},
   "source": [
    "Clara tendencia a la falta de testigos."
   ]
  },
  {
   "cell_type": "code",
   "execution_count": 48,
   "metadata": {},
   "outputs": [
    {
     "name": "stdout",
     "output_type": "stream",
     "text": [
      "BASEPOLICY\n",
      "Collision    763\n",
      "AllPerils    681\n",
      "Liability    338\n",
      "Name: count, dtype: int64\n"
     ]
    }
   ],
   "source": [
    "print(Df_fraudes_crudo['BASEPOLICY'].value_counts())"
   ]
  },
  {
   "cell_type": "code",
   "execution_count": 49,
   "metadata": {},
   "outputs": [
    {
     "name": "stdout",
     "output_type": "stream",
     "text": [
      "NUMBEROFCARS\n",
      "1.000000    1649\n",
      "2.000000      78\n",
      "1.140853      55\n",
      "Name: count, dtype: int64\n"
     ]
    }
   ],
   "source": [
    "print(Df_fraudes_crudo['NUMBEROFCARS'].value_counts())"
   ]
  },
  {
   "cell_type": "code",
   "execution_count": 50,
   "metadata": {},
   "outputs": [
    {
     "name": "stdout",
     "output_type": "stream",
     "text": [
      "ADDRESSCHANGECLAIM\n",
      "0      1632\n",
      "2        65\n",
      "4        64\n",
      "1        18\n",
      "0.5       3\n",
      "Name: count, dtype: int64\n"
     ]
    }
   ],
   "source": [
    "print(Df_fraudes_crudo['ADDRESSCHANGECLAIM'].value_counts())"
   ]
  },
  {
   "cell_type": "code",
   "execution_count": 51,
   "metadata": {},
   "outputs": [
    {
     "name": "stdout",
     "output_type": "stream",
     "text": [
      "NUMBEROFSUPPLIMENTS\n",
      "0    851\n",
      "6    438\n",
      "1    288\n",
      "3    205\n",
      "Name: count, dtype: int64\n"
     ]
    }
   ],
   "source": [
    "print(Df_fraudes_crudo['NUMBEROFSUPPLIMENTS'].value_counts())"
   ]
  },
  {
   "cell_type": "code",
   "execution_count": 52,
   "metadata": {},
   "outputs": [],
   "source": [
    "from sklearn.linear_model import LogisticRegression\n",
    "from sklearn.model_selection import train_test_split\n",
    "from sklearn.metrics import accuracy_score, confusion_matrix, classification_report\n"
   ]
  },
  {
   "cell_type": "code",
   "execution_count": 53,
   "metadata": {},
   "outputs": [],
   "source": [
    "Df_fraudes_crudo = Df_fraudes_crudo[['WEEKOFMONTH','DAYOFWEEK','DAYOFWEEKCLAIMED','DRIVERRATING','VEHICLEPRICE','WEEKOFMONTHCLAIMED','AGEOFPOLICYHOLDER','MONTHCLAIMED','MAKE','PASTNUMBEROFCLAIMS','FRAUDFOUND','BASEPOLICY','NUMBEROFCARS','AGEOFVEHICLE','FAULT']]"
   ]
  },
  {
   "cell_type": "code",
   "execution_count": 54,
   "metadata": {},
   "outputs": [],
   "source": [
    "X = Df_fraudes_crudo.drop('FRAUDFOUND', axis=1)\n",
    "y = Df_fraudes_crudo['FRAUDFOUND']"
   ]
  },
  {
   "cell_type": "code",
   "execution_count": 55,
   "metadata": {},
   "outputs": [],
   "source": [
    "X_train, X_test, y_train, y_test = train_test_split(X, y, test_size=0.2, random_state=42)"
   ]
  },
  {
   "cell_type": "code",
   "execution_count": 56,
   "metadata": {},
   "outputs": [],
   "source": [
    "from sklearn.preprocessing import StandardScaler"
   ]
  },
  {
   "cell_type": "code",
   "execution_count": 57,
   "metadata": {},
   "outputs": [],
   "source": [
    "categoricas_columnas = ['WEEKOFMONTH','DAYOFWEEK','DAYOFWEEKCLAIMED','MONTHCLAIMED','VEHICLEPRICE','AGEOFPOLICYHOLDER','DRIVERRATING','WEEKOFMONTHCLAIMED','MAKE','PASTNUMBEROFCLAIMS','BASEPOLICY','NUMBEROFCARS','AGEOFVEHICLE','FAULT']"
   ]
  },
  {
   "cell_type": "code",
   "execution_count": 58,
   "metadata": {},
   "outputs": [],
   "source": [
    "X_train = pd.get_dummies(X_train, columns=categoricas_columnas, drop_first=True)\n",
    "X_test = pd.get_dummies(X_test, columns=categoricas_columnas, drop_first=True)"
   ]
  },
  {
   "cell_type": "code",
   "execution_count": 59,
   "metadata": {},
   "outputs": [],
   "source": [
    "X_train, X_test = X_train.align(X_test, join=\"left\", axis=1, fill_value=0)"
   ]
  },
  {
   "cell_type": "code",
   "execution_count": 60,
   "metadata": {},
   "outputs": [],
   "source": [
    "regresion_1 = LogisticRegression(solver='liblinear', random_state=42)"
   ]
  },
  {
   "cell_type": "code",
   "execution_count": 61,
   "metadata": {},
   "outputs": [
    {
     "data": {
      "text/html": [
       "<style>#sk-container-id-1 {\n",
       "  /* Definition of color scheme common for light and dark mode */\n",
       "  --sklearn-color-text: #000;\n",
       "  --sklearn-color-text-muted: #666;\n",
       "  --sklearn-color-line: gray;\n",
       "  /* Definition of color scheme for unfitted estimators */\n",
       "  --sklearn-color-unfitted-level-0: #fff5e6;\n",
       "  --sklearn-color-unfitted-level-1: #f6e4d2;\n",
       "  --sklearn-color-unfitted-level-2: #ffe0b3;\n",
       "  --sklearn-color-unfitted-level-3: chocolate;\n",
       "  /* Definition of color scheme for fitted estimators */\n",
       "  --sklearn-color-fitted-level-0: #f0f8ff;\n",
       "  --sklearn-color-fitted-level-1: #d4ebff;\n",
       "  --sklearn-color-fitted-level-2: #b3dbfd;\n",
       "  --sklearn-color-fitted-level-3: cornflowerblue;\n",
       "\n",
       "  /* Specific color for light theme */\n",
       "  --sklearn-color-text-on-default-background: var(--sg-text-color, var(--theme-code-foreground, var(--jp-content-font-color1, black)));\n",
       "  --sklearn-color-background: var(--sg-background-color, var(--theme-background, var(--jp-layout-color0, white)));\n",
       "  --sklearn-color-border-box: var(--sg-text-color, var(--theme-code-foreground, var(--jp-content-font-color1, black)));\n",
       "  --sklearn-color-icon: #696969;\n",
       "\n",
       "  @media (prefers-color-scheme: dark) {\n",
       "    /* Redefinition of color scheme for dark theme */\n",
       "    --sklearn-color-text-on-default-background: var(--sg-text-color, var(--theme-code-foreground, var(--jp-content-font-color1, white)));\n",
       "    --sklearn-color-background: var(--sg-background-color, var(--theme-background, var(--jp-layout-color0, #111)));\n",
       "    --sklearn-color-border-box: var(--sg-text-color, var(--theme-code-foreground, var(--jp-content-font-color1, white)));\n",
       "    --sklearn-color-icon: #878787;\n",
       "  }\n",
       "}\n",
       "\n",
       "#sk-container-id-1 {\n",
       "  color: var(--sklearn-color-text);\n",
       "}\n",
       "\n",
       "#sk-container-id-1 pre {\n",
       "  padding: 0;\n",
       "}\n",
       "\n",
       "#sk-container-id-1 input.sk-hidden--visually {\n",
       "  border: 0;\n",
       "  clip: rect(1px 1px 1px 1px);\n",
       "  clip: rect(1px, 1px, 1px, 1px);\n",
       "  height: 1px;\n",
       "  margin: -1px;\n",
       "  overflow: hidden;\n",
       "  padding: 0;\n",
       "  position: absolute;\n",
       "  width: 1px;\n",
       "}\n",
       "\n",
       "#sk-container-id-1 div.sk-dashed-wrapped {\n",
       "  border: 1px dashed var(--sklearn-color-line);\n",
       "  margin: 0 0.4em 0.5em 0.4em;\n",
       "  box-sizing: border-box;\n",
       "  padding-bottom: 0.4em;\n",
       "  background-color: var(--sklearn-color-background);\n",
       "}\n",
       "\n",
       "#sk-container-id-1 div.sk-container {\n",
       "  /* jupyter's `normalize.less` sets `[hidden] { display: none; }`\n",
       "     but bootstrap.min.css set `[hidden] { display: none !important; }`\n",
       "     so we also need the `!important` here to be able to override the\n",
       "     default hidden behavior on the sphinx rendered scikit-learn.org.\n",
       "     See: https://github.com/scikit-learn/scikit-learn/issues/21755 */\n",
       "  display: inline-block !important;\n",
       "  position: relative;\n",
       "}\n",
       "\n",
       "#sk-container-id-1 div.sk-text-repr-fallback {\n",
       "  display: none;\n",
       "}\n",
       "\n",
       "div.sk-parallel-item,\n",
       "div.sk-serial,\n",
       "div.sk-item {\n",
       "  /* draw centered vertical line to link estimators */\n",
       "  background-image: linear-gradient(var(--sklearn-color-text-on-default-background), var(--sklearn-color-text-on-default-background));\n",
       "  background-size: 2px 100%;\n",
       "  background-repeat: no-repeat;\n",
       "  background-position: center center;\n",
       "}\n",
       "\n",
       "/* Parallel-specific style estimator block */\n",
       "\n",
       "#sk-container-id-1 div.sk-parallel-item::after {\n",
       "  content: \"\";\n",
       "  width: 100%;\n",
       "  border-bottom: 2px solid var(--sklearn-color-text-on-default-background);\n",
       "  flex-grow: 1;\n",
       "}\n",
       "\n",
       "#sk-container-id-1 div.sk-parallel {\n",
       "  display: flex;\n",
       "  align-items: stretch;\n",
       "  justify-content: center;\n",
       "  background-color: var(--sklearn-color-background);\n",
       "  position: relative;\n",
       "}\n",
       "\n",
       "#sk-container-id-1 div.sk-parallel-item {\n",
       "  display: flex;\n",
       "  flex-direction: column;\n",
       "}\n",
       "\n",
       "#sk-container-id-1 div.sk-parallel-item:first-child::after {\n",
       "  align-self: flex-end;\n",
       "  width: 50%;\n",
       "}\n",
       "\n",
       "#sk-container-id-1 div.sk-parallel-item:last-child::after {\n",
       "  align-self: flex-start;\n",
       "  width: 50%;\n",
       "}\n",
       "\n",
       "#sk-container-id-1 div.sk-parallel-item:only-child::after {\n",
       "  width: 0;\n",
       "}\n",
       "\n",
       "/* Serial-specific style estimator block */\n",
       "\n",
       "#sk-container-id-1 div.sk-serial {\n",
       "  display: flex;\n",
       "  flex-direction: column;\n",
       "  align-items: center;\n",
       "  background-color: var(--sklearn-color-background);\n",
       "  padding-right: 1em;\n",
       "  padding-left: 1em;\n",
       "}\n",
       "\n",
       "\n",
       "/* Toggleable style: style used for estimator/Pipeline/ColumnTransformer box that is\n",
       "clickable and can be expanded/collapsed.\n",
       "- Pipeline and ColumnTransformer use this feature and define the default style\n",
       "- Estimators will overwrite some part of the style using the `sk-estimator` class\n",
       "*/\n",
       "\n",
       "/* Pipeline and ColumnTransformer style (default) */\n",
       "\n",
       "#sk-container-id-1 div.sk-toggleable {\n",
       "  /* Default theme specific background. It is overwritten whether we have a\n",
       "  specific estimator or a Pipeline/ColumnTransformer */\n",
       "  background-color: var(--sklearn-color-background);\n",
       "}\n",
       "\n",
       "/* Toggleable label */\n",
       "#sk-container-id-1 label.sk-toggleable__label {\n",
       "  cursor: pointer;\n",
       "  display: flex;\n",
       "  width: 100%;\n",
       "  margin-bottom: 0;\n",
       "  padding: 0.5em;\n",
       "  box-sizing: border-box;\n",
       "  text-align: center;\n",
       "  align-items: start;\n",
       "  justify-content: space-between;\n",
       "  gap: 0.5em;\n",
       "}\n",
       "\n",
       "#sk-container-id-1 label.sk-toggleable__label .caption {\n",
       "  font-size: 0.6rem;\n",
       "  font-weight: lighter;\n",
       "  color: var(--sklearn-color-text-muted);\n",
       "}\n",
       "\n",
       "#sk-container-id-1 label.sk-toggleable__label-arrow:before {\n",
       "  /* Arrow on the left of the label */\n",
       "  content: \"▸\";\n",
       "  float: left;\n",
       "  margin-right: 0.25em;\n",
       "  color: var(--sklearn-color-icon);\n",
       "}\n",
       "\n",
       "#sk-container-id-1 label.sk-toggleable__label-arrow:hover:before {\n",
       "  color: var(--sklearn-color-text);\n",
       "}\n",
       "\n",
       "/* Toggleable content - dropdown */\n",
       "\n",
       "#sk-container-id-1 div.sk-toggleable__content {\n",
       "  max-height: 0;\n",
       "  max-width: 0;\n",
       "  overflow: hidden;\n",
       "  text-align: left;\n",
       "  /* unfitted */\n",
       "  background-color: var(--sklearn-color-unfitted-level-0);\n",
       "}\n",
       "\n",
       "#sk-container-id-1 div.sk-toggleable__content.fitted {\n",
       "  /* fitted */\n",
       "  background-color: var(--sklearn-color-fitted-level-0);\n",
       "}\n",
       "\n",
       "#sk-container-id-1 div.sk-toggleable__content pre {\n",
       "  margin: 0.2em;\n",
       "  border-radius: 0.25em;\n",
       "  color: var(--sklearn-color-text);\n",
       "  /* unfitted */\n",
       "  background-color: var(--sklearn-color-unfitted-level-0);\n",
       "}\n",
       "\n",
       "#sk-container-id-1 div.sk-toggleable__content.fitted pre {\n",
       "  /* unfitted */\n",
       "  background-color: var(--sklearn-color-fitted-level-0);\n",
       "}\n",
       "\n",
       "#sk-container-id-1 input.sk-toggleable__control:checked~div.sk-toggleable__content {\n",
       "  /* Expand drop-down */\n",
       "  max-height: 200px;\n",
       "  max-width: 100%;\n",
       "  overflow: auto;\n",
       "}\n",
       "\n",
       "#sk-container-id-1 input.sk-toggleable__control:checked~label.sk-toggleable__label-arrow:before {\n",
       "  content: \"▾\";\n",
       "}\n",
       "\n",
       "/* Pipeline/ColumnTransformer-specific style */\n",
       "\n",
       "#sk-container-id-1 div.sk-label input.sk-toggleable__control:checked~label.sk-toggleable__label {\n",
       "  color: var(--sklearn-color-text);\n",
       "  background-color: var(--sklearn-color-unfitted-level-2);\n",
       "}\n",
       "\n",
       "#sk-container-id-1 div.sk-label.fitted input.sk-toggleable__control:checked~label.sk-toggleable__label {\n",
       "  background-color: var(--sklearn-color-fitted-level-2);\n",
       "}\n",
       "\n",
       "/* Estimator-specific style */\n",
       "\n",
       "/* Colorize estimator box */\n",
       "#sk-container-id-1 div.sk-estimator input.sk-toggleable__control:checked~label.sk-toggleable__label {\n",
       "  /* unfitted */\n",
       "  background-color: var(--sklearn-color-unfitted-level-2);\n",
       "}\n",
       "\n",
       "#sk-container-id-1 div.sk-estimator.fitted input.sk-toggleable__control:checked~label.sk-toggleable__label {\n",
       "  /* fitted */\n",
       "  background-color: var(--sklearn-color-fitted-level-2);\n",
       "}\n",
       "\n",
       "#sk-container-id-1 div.sk-label label.sk-toggleable__label,\n",
       "#sk-container-id-1 div.sk-label label {\n",
       "  /* The background is the default theme color */\n",
       "  color: var(--sklearn-color-text-on-default-background);\n",
       "}\n",
       "\n",
       "/* On hover, darken the color of the background */\n",
       "#sk-container-id-1 div.sk-label:hover label.sk-toggleable__label {\n",
       "  color: var(--sklearn-color-text);\n",
       "  background-color: var(--sklearn-color-unfitted-level-2);\n",
       "}\n",
       "\n",
       "/* Label box, darken color on hover, fitted */\n",
       "#sk-container-id-1 div.sk-label.fitted:hover label.sk-toggleable__label.fitted {\n",
       "  color: var(--sklearn-color-text);\n",
       "  background-color: var(--sklearn-color-fitted-level-2);\n",
       "}\n",
       "\n",
       "/* Estimator label */\n",
       "\n",
       "#sk-container-id-1 div.sk-label label {\n",
       "  font-family: monospace;\n",
       "  font-weight: bold;\n",
       "  display: inline-block;\n",
       "  line-height: 1.2em;\n",
       "}\n",
       "\n",
       "#sk-container-id-1 div.sk-label-container {\n",
       "  text-align: center;\n",
       "}\n",
       "\n",
       "/* Estimator-specific */\n",
       "#sk-container-id-1 div.sk-estimator {\n",
       "  font-family: monospace;\n",
       "  border: 1px dotted var(--sklearn-color-border-box);\n",
       "  border-radius: 0.25em;\n",
       "  box-sizing: border-box;\n",
       "  margin-bottom: 0.5em;\n",
       "  /* unfitted */\n",
       "  background-color: var(--sklearn-color-unfitted-level-0);\n",
       "}\n",
       "\n",
       "#sk-container-id-1 div.sk-estimator.fitted {\n",
       "  /* fitted */\n",
       "  background-color: var(--sklearn-color-fitted-level-0);\n",
       "}\n",
       "\n",
       "/* on hover */\n",
       "#sk-container-id-1 div.sk-estimator:hover {\n",
       "  /* unfitted */\n",
       "  background-color: var(--sklearn-color-unfitted-level-2);\n",
       "}\n",
       "\n",
       "#sk-container-id-1 div.sk-estimator.fitted:hover {\n",
       "  /* fitted */\n",
       "  background-color: var(--sklearn-color-fitted-level-2);\n",
       "}\n",
       "\n",
       "/* Specification for estimator info (e.g. \"i\" and \"?\") */\n",
       "\n",
       "/* Common style for \"i\" and \"?\" */\n",
       "\n",
       ".sk-estimator-doc-link,\n",
       "a:link.sk-estimator-doc-link,\n",
       "a:visited.sk-estimator-doc-link {\n",
       "  float: right;\n",
       "  font-size: smaller;\n",
       "  line-height: 1em;\n",
       "  font-family: monospace;\n",
       "  background-color: var(--sklearn-color-background);\n",
       "  border-radius: 1em;\n",
       "  height: 1em;\n",
       "  width: 1em;\n",
       "  text-decoration: none !important;\n",
       "  margin-left: 0.5em;\n",
       "  text-align: center;\n",
       "  /* unfitted */\n",
       "  border: var(--sklearn-color-unfitted-level-1) 1pt solid;\n",
       "  color: var(--sklearn-color-unfitted-level-1);\n",
       "}\n",
       "\n",
       ".sk-estimator-doc-link.fitted,\n",
       "a:link.sk-estimator-doc-link.fitted,\n",
       "a:visited.sk-estimator-doc-link.fitted {\n",
       "  /* fitted */\n",
       "  border: var(--sklearn-color-fitted-level-1) 1pt solid;\n",
       "  color: var(--sklearn-color-fitted-level-1);\n",
       "}\n",
       "\n",
       "/* On hover */\n",
       "div.sk-estimator:hover .sk-estimator-doc-link:hover,\n",
       ".sk-estimator-doc-link:hover,\n",
       "div.sk-label-container:hover .sk-estimator-doc-link:hover,\n",
       ".sk-estimator-doc-link:hover {\n",
       "  /* unfitted */\n",
       "  background-color: var(--sklearn-color-unfitted-level-3);\n",
       "  color: var(--sklearn-color-background);\n",
       "  text-decoration: none;\n",
       "}\n",
       "\n",
       "div.sk-estimator.fitted:hover .sk-estimator-doc-link.fitted:hover,\n",
       ".sk-estimator-doc-link.fitted:hover,\n",
       "div.sk-label-container:hover .sk-estimator-doc-link.fitted:hover,\n",
       ".sk-estimator-doc-link.fitted:hover {\n",
       "  /* fitted */\n",
       "  background-color: var(--sklearn-color-fitted-level-3);\n",
       "  color: var(--sklearn-color-background);\n",
       "  text-decoration: none;\n",
       "}\n",
       "\n",
       "/* Span, style for the box shown on hovering the info icon */\n",
       ".sk-estimator-doc-link span {\n",
       "  display: none;\n",
       "  z-index: 9999;\n",
       "  position: relative;\n",
       "  font-weight: normal;\n",
       "  right: .2ex;\n",
       "  padding: .5ex;\n",
       "  margin: .5ex;\n",
       "  width: min-content;\n",
       "  min-width: 20ex;\n",
       "  max-width: 50ex;\n",
       "  color: var(--sklearn-color-text);\n",
       "  box-shadow: 2pt 2pt 4pt #999;\n",
       "  /* unfitted */\n",
       "  background: var(--sklearn-color-unfitted-level-0);\n",
       "  border: .5pt solid var(--sklearn-color-unfitted-level-3);\n",
       "}\n",
       "\n",
       ".sk-estimator-doc-link.fitted span {\n",
       "  /* fitted */\n",
       "  background: var(--sklearn-color-fitted-level-0);\n",
       "  border: var(--sklearn-color-fitted-level-3);\n",
       "}\n",
       "\n",
       ".sk-estimator-doc-link:hover span {\n",
       "  display: block;\n",
       "}\n",
       "\n",
       "/* \"?\"-specific style due to the `<a>` HTML tag */\n",
       "\n",
       "#sk-container-id-1 a.estimator_doc_link {\n",
       "  float: right;\n",
       "  font-size: 1rem;\n",
       "  line-height: 1em;\n",
       "  font-family: monospace;\n",
       "  background-color: var(--sklearn-color-background);\n",
       "  border-radius: 1rem;\n",
       "  height: 1rem;\n",
       "  width: 1rem;\n",
       "  text-decoration: none;\n",
       "  /* unfitted */\n",
       "  color: var(--sklearn-color-unfitted-level-1);\n",
       "  border: var(--sklearn-color-unfitted-level-1) 1pt solid;\n",
       "}\n",
       "\n",
       "#sk-container-id-1 a.estimator_doc_link.fitted {\n",
       "  /* fitted */\n",
       "  border: var(--sklearn-color-fitted-level-1) 1pt solid;\n",
       "  color: var(--sklearn-color-fitted-level-1);\n",
       "}\n",
       "\n",
       "/* On hover */\n",
       "#sk-container-id-1 a.estimator_doc_link:hover {\n",
       "  /* unfitted */\n",
       "  background-color: var(--sklearn-color-unfitted-level-3);\n",
       "  color: var(--sklearn-color-background);\n",
       "  text-decoration: none;\n",
       "}\n",
       "\n",
       "#sk-container-id-1 a.estimator_doc_link.fitted:hover {\n",
       "  /* fitted */\n",
       "  background-color: var(--sklearn-color-fitted-level-3);\n",
       "}\n",
       "</style><div id=\"sk-container-id-1\" class=\"sk-top-container\"><div class=\"sk-text-repr-fallback\"><pre>LogisticRegression(random_state=42, solver=&#x27;liblinear&#x27;)</pre><b>In a Jupyter environment, please rerun this cell to show the HTML representation or trust the notebook. <br />On GitHub, the HTML representation is unable to render, please try loading this page with nbviewer.org.</b></div><div class=\"sk-container\" hidden><div class=\"sk-item\"><div class=\"sk-estimator fitted sk-toggleable\"><input class=\"sk-toggleable__control sk-hidden--visually\" id=\"sk-estimator-id-1\" type=\"checkbox\" checked><label for=\"sk-estimator-id-1\" class=\"sk-toggleable__label fitted sk-toggleable__label-arrow\"><div><div>LogisticRegression</div></div><div><a class=\"sk-estimator-doc-link fitted\" rel=\"noreferrer\" target=\"_blank\" href=\"https://scikit-learn.org/1.6/modules/generated/sklearn.linear_model.LogisticRegression.html\">?<span>Documentation for LogisticRegression</span></a><span class=\"sk-estimator-doc-link fitted\">i<span>Fitted</span></span></div></label><div class=\"sk-toggleable__content fitted\"><pre>LogisticRegression(random_state=42, solver=&#x27;liblinear&#x27;)</pre></div> </div></div></div></div>"
      ],
      "text/plain": [
       "LogisticRegression(random_state=42, solver='liblinear')"
      ]
     },
     "execution_count": 61,
     "metadata": {},
     "output_type": "execute_result"
    }
   ],
   "source": [
    "regresion_1.fit(X_train, y_train)\n"
   ]
  },
  {
   "cell_type": "code",
   "execution_count": 62,
   "metadata": {},
   "outputs": [
    {
     "name": "stdout",
     "output_type": "stream",
     "text": [
      "['Yes' 'Yes' 'No' 'No' 'Yes' 'Yes' 'Yes' 'Yes' 'No' 'Yes']\n"
     ]
    }
   ],
   "source": [
    "y_pred = regresion_1.predict(X_test)\n",
    "print(y_pred[:10])"
   ]
  },
  {
   "cell_type": "code",
   "execution_count": 63,
   "metadata": {},
   "outputs": [
    {
     "name": "stdout",
     "output_type": "stream",
     "text": [
      "Accuracy: 0.5546\n"
     ]
    }
   ],
   "source": [
    "from sklearn.metrics import accuracy_score\n",
    "\n",
    "accuracy = accuracy_score(y_test, y_pred)\n",
    "print(f\"Accuracy: {accuracy:.4f}\")"
   ]
  }
 ],
 "metadata": {
  "kernelspec": {
   "display_name": "AVFabri",
   "language": "python",
   "name": "python3"
  },
  "language_info": {
   "codemirror_mode": {
    "name": "ipython",
    "version": 3
   },
   "file_extension": ".py",
   "mimetype": "text/x-python",
   "name": "python",
   "nbconvert_exporter": "python",
   "pygments_lexer": "ipython3",
   "version": "3.13.0"
  }
 },
 "nbformat": 4,
 "nbformat_minor": 2
}
