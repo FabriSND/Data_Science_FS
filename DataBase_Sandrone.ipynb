{
  "nbformat": 4,
  "nbformat_minor": 0,
  "metadata": {
    "colab": {
      "provenance": [],
      "toc_visible": true
    },
    "kernelspec": {
      "name": "python3",
      "display_name": "Python 3"
    },
    "language_info": {
      "name": "python"
    }
  },
  "cells": [
    {
      "cell_type": "markdown",
      "source": [
        "# Data Set sobre deteccion de fraudes en compañía aseguradora de automoviles.\n",
        "Origen del dataset: https://github.com/AnalyticsandDataOracleUserCommunity/MachineLearning/blob/master/claims/CLAIMS0.csv\n",
        "(Repositorio de GitHub)\n"
      ],
      "metadata": {
        "id": "3Gdm_qSKqbsT"
      }
    },
    {
      "cell_type": "markdown",
      "source": [
        "##"
      ],
      "metadata": {
        "id": "IP12vgwE3s0E"
      }
    },
    {
      "cell_type": "code",
      "source": [
        "from google.colab import drive\n",
        "import os\n",
        "drive.mount('/content/drive')"
      ],
      "metadata": {
        "colab": {
          "base_uri": "https://localhost:8080/"
        },
        "id": "Lrlcebhli_ME",
        "outputId": "0c8de58b-a4b9-4ef6-9ab4-1e1c7470f631"
      },
      "execution_count": null,
      "outputs": [
        {
          "output_type": "stream",
          "name": "stdout",
          "text": [
            "Drive already mounted at /content/drive; to attempt to forcibly remount, call drive.mount(\"/content/drive\", force_remount=True).\n"
          ]
        }
      ]
    },
    {
      "cell_type": "markdown",
      "source": [
        "Esta linea de codigo fue utilizada para conectar Colab Google Drive."
      ],
      "metadata": {
        "id": "GSr1i8Ypq3RC"
      }
    },
    {
      "cell_type": "code",
      "source": [
        "import pandas as pd"
      ],
      "metadata": {
        "id": "iXAyEQUIjhli"
      },
      "execution_count": null,
      "outputs": []
    },
    {
      "cell_type": "markdown",
      "source": [
        "Integracion de la libreria Pandas."
      ],
      "metadata": {
        "id": "ABOe_ZP8rA0g"
      }
    },
    {
      "cell_type": "code",
      "source": [
        "df = pd.read_csv('/content/drive/MyDrive/Data_Science/CLAIMS0.csv',sep=',')\n",
        "print(df.head())"
      ],
      "metadata": {
        "colab": {
          "base_uri": "https://localhost:8080/"
        },
        "id": "coqoaFv5jj5f",
        "outputId": "d1cefd96-513b-4816-945a-e37ed8b27728"
      },
      "execution_count": null,
      "outputs": [
        {
          "output_type": "stream",
          "name": "stdout",
          "text": [
            "   WEEKOFMONTH DAYOFWEEK   MAKE ACCIDENTAREA DAYOFWEEKCLAIMED MONTHCLAIMED  \\\n",
            "0            1    Friday  Honda        Rural           Friday          Dec   \n",
            "1            2    Friday  Honda        Urban           Friday          Jun   \n",
            "2            5    Monday  Honda        Urban           Friday          Apr   \n",
            "3            4    Sunday  Honda        Urban           Friday          Sep   \n",
            "4            2   Tuesday  Honda        Urban           Friday          Jan   \n",
            "\n",
            "   WEEKOFMONTHCLAIMED   SEX MARITALSTATUS         FAULT  ...  \\\n",
            "0                   3  Male        Single  PolicyHolder  ...   \n",
            "1                   4  Male        Single  PolicyHolder  ...   \n",
            "2                   1  Male        Single    ThirdParty  ...   \n",
            "3                   1  Male        Single  PolicyHolder  ...   \n",
            "4                   4  Male        Single  PolicyHolder  ...   \n",
            "\n",
            "  PASTNUMBEROFCLAIMS AGEOFVEHICLE  AGEOFPOLICYHOLDER  POLICEREPORTFILED  \\\n",
            "0               none          new             16to17                 No   \n",
            "1                  1          new             16to17                 No   \n",
            "2               none          new             16to17                 No   \n",
            "3               none          new             16to17                 No   \n",
            "4               none          new             16to17                 No   \n",
            "\n",
            "   WITNESSPRESENT  AGENTTYPE NUMBEROFSUPPLIMENTS ADDRESSCHANGECLAIM  \\\n",
            "0              No   External                none           nochange   \n",
            "1              No   External                none           nochange   \n",
            "2              No   External                none          4to8years   \n",
            "3              No   External                none           nochange   \n",
            "4              No   External                none           nochange   \n",
            "\n",
            "  NUMBEROFCARS BASEPOLICY  \n",
            "0     1vehicle  AllPerils  \n",
            "1     1vehicle  AllPerils  \n",
            "2    2vehicles  Collision  \n",
            "3     1vehicle  Collision  \n",
            "4     1vehicle  AllPerils  \n",
            "\n",
            "[5 rows x 28 columns]\n"
          ]
        }
      ]
    },
    {
      "cell_type": "markdown",
      "source": [
        "## Pull del DataSet desde Google Drive.\n",
        "Usamos el path del DataSet desde google drive, aclarando que el archivo es un CSV, separado por comas.\n",
        "Luego acoplamos un print de las primeras 5 filas para corroborar la correcta ejecucion del codigo anterior."
      ],
      "metadata": {
        "id": "NhjRhtxfrHX1"
      }
    },
    {
      "cell_type": "code",
      "source": [
        "!ls"
      ],
      "metadata": {
        "colab": {
          "base_uri": "https://localhost:8080/"
        },
        "id": "HqoQsslCkoH1",
        "outputId": "3d25ef33-72be-4e8a-f39c-358123b3d869"
      },
      "execution_count": null,
      "outputs": [
        {
          "output_type": "stream",
          "name": "stdout",
          "text": [
            "drive  gdrive  sample_data\n"
          ]
        }
      ]
    },
    {
      "cell_type": "markdown",
      "source": [
        "Esta linea simplemente fue utilizada para corrobora el path del DataSet."
      ],
      "metadata": {
        "id": "lGQglzqVrxeu"
      }
    },
    {
      "cell_type": "code",
      "source": [
        "print(df.shape)"
      ],
      "metadata": {
        "colab": {
          "base_uri": "https://localhost:8080/"
        },
        "id": "SEbFtyLOr7rt",
        "outputId": "9d86694a-025e-4155-9ed1-ee90ac90f890"
      },
      "execution_count": null,
      "outputs": [
        {
          "output_type": "stream",
          "name": "stdout",
          "text": [
            "(1782, 28)\n"
          ]
        }
      ]
    },
    {
      "cell_type": "code",
      "source": [],
      "metadata": {
        "id": "X73jHMSSvMbD"
      },
      "execution_count": null,
      "outputs": []
    },
    {
      "cell_type": "markdown",
      "source": [
        "## Dimension del DataSet\n",
        "La Base de datos esta compuesta de 29 columnas con 1782 filas.\n"
      ],
      "metadata": {
        "id": "1MXIlELgr8qz"
      }
    },
    {
      "cell_type": "markdown",
      "source": [
        "## Columnas de la Base de Datos:\n",
        "\n",
        "\n",
        "\n",
        "*   WEEKOFMONTH - Semana del mes en la que se produjo el siniestro. Dato de tipo Integer.\n",
        "*   DAYOFWEEK - Dia de la semana en el que se produjo el siniestro. Dato de tipo object.\n",
        "*   MAKE - Marca del auto. Dato de tipo object.\n",
        "*   ACCIDENTAREA - Area del accidente. Dato de tipo object.\n",
        "*   DAYOFWWEKCLAIMED - Dia de la semana en el que se ejecuto el reclamo. Dato de tipo object.\n",
        "*   MONTHCLAIMED - Mes del año en el que se ejecuto el reclamo. Dato de tipo object.\n",
        "*   WEEKOFMONTHCLAIMED - Semana del mes en la que se ejecuto el reclamo. Dato de tipo Int.\n",
        "*   SEX - Genero de la persona que ejecuta el reclamo. Dato de tipo object.\n",
        "*   MARITALSTATUS - Estado civil de la persona que ejecuta el reclamo. Dato de tipo object.\n",
        "*   FAULT - Causante del siniestro. Dato de tipo object.\n",
        "*   VEHICLECATEGORY - Categoria del vehiculo que ejecuta el reclamo. Dato de tipo object.\n",
        "*   VEHICLEPRICE - Precio estimativo del vehiculo que ejecuta el reclamo. Dato de tipo object.\n",
        "*   POLICYNUMBER - Numero de poliza. Tipo de dato Int.\n",
        "*   REPNUMBER - Id del representante. Tipo de dato Int.\n",
        "*   DEDUCTIBLE - Cantidad de dinero a abonar por quien ejecuta el reclamo antes de que la compañía de seguros se haga cargo del siniestro. Tipo de dato Int.\n",
        "*   DRIVERRATING - Variable que connota la puntuacion del conductor, siendo 1 un conductor ejemplar y 5 un conductor a quien se le debe sustraer la licencia de conducir. Tipo de dato Str.\n",
        "\n",
        "*   DAYSPOLICYACCIDENT - Cantidad de días desde que se contrató la póliza de seguro hasta que ocurrió el accidente. Tipo de dato object.\n",
        "*   PASTNUMBEROFCLAIMS - Cantidad de reclamos previos. Tipo de dato Object.\n",
        "*   AGEOFVEHICLE - Condicion del vehiculo (en materia tiempo). Tipo de dato object.\n",
        "*   AGEOFPOLICYHOLDER - Edad del dueño de la poliza. Tipo de dato object.\n",
        "*   POLICEREPORTFIELD - Peritaje policial. Tipo de dato Object.\n",
        "*   WITNESSPRESENT - Presencia de testigo. Tipo de dato object.\n",
        "*   AGENTTYPE - Denota si el reclamo fue realizado por un angente interno de la empresa o un tercero. Tipo de dato object.\n",
        "*   NUMBEROFSUPPLIMENTS - Número de suplementos o modificaciones que se han hecho a una póliza de seguro. Tipo de dato object.\n",
        "*   ADDRESSCHANGECLAIM - Tiempo desde el ultimo cambio de domicilio. Tipo de dato Object.\n",
        "*   NUMBEROFCARS - Cantidad de autos involucrados en la poliza. Tipo de dato Object.\n",
        "*   BASEPOLICY - Tipo de servicio de seguro. Tipo de dato object.\n",
        "\n"
      ],
      "metadata": {
        "id": "3utlOVyfsJiL"
      }
    },
    {
      "cell_type": "code",
      "source": [
        "df.info()"
      ],
      "metadata": {
        "colab": {
          "base_uri": "https://localhost:8080/"
        },
        "id": "AeAX7qi15rpZ",
        "outputId": "90fe258e-6c21-48b5-b802-bb35721c5fc8"
      },
      "execution_count": null,
      "outputs": [
        {
          "output_type": "stream",
          "name": "stdout",
          "text": [
            "<class 'pandas.core.frame.DataFrame'>\n",
            "RangeIndex: 1782 entries, 0 to 1781\n",
            "Data columns (total 28 columns):\n",
            " #   Column               Non-Null Count  Dtype \n",
            "---  ------               --------------  ----- \n",
            " 0   WEEKOFMONTH          1782 non-null   int64 \n",
            " 1   DAYOFWEEK            1782 non-null   object\n",
            " 2   MAKE                 1782 non-null   object\n",
            " 3   ACCIDENTAREA         1782 non-null   object\n",
            " 4   DAYOFWEEKCLAIMED     1782 non-null   object\n",
            " 5   MONTHCLAIMED         1782 non-null   object\n",
            " 6   WEEKOFMONTHCLAIMED   1782 non-null   int64 \n",
            " 7   SEX                  1782 non-null   object\n",
            " 8   MARITALSTATUS        1782 non-null   object\n",
            " 9   FAULT                1782 non-null   object\n",
            " 10  VEHICLECATEGORY      1782 non-null   object\n",
            " 11  VEHICLEPRICE         1782 non-null   object\n",
            " 12  POLICYNUMBER         1782 non-null   int64 \n",
            " 13  REPNUMBER            1782 non-null   int64 \n",
            " 14  DEDUCTIBLE           1782 non-null   int64 \n",
            " 15  DRIVERRATING         1782 non-null   int64 \n",
            " 16  DAYSPOLICYACCIDENT   1782 non-null   object\n",
            " 17  DAYSPOLICYCLAIM      1782 non-null   object\n",
            " 18  PASTNUMBEROFCLAIMS   1782 non-null   object\n",
            " 19  AGEOFVEHICLE         1782 non-null   object\n",
            " 20  AGEOFPOLICYHOLDER    1782 non-null   object\n",
            " 21  POLICEREPORTFILED    1782 non-null   object\n",
            " 22  WITNESSPRESENT       1782 non-null   object\n",
            " 23  AGENTTYPE            1782 non-null   object\n",
            " 24  NUMBEROFSUPPLIMENTS  1782 non-null   object\n",
            " 25  ADDRESSCHANGECLAIM   1782 non-null   object\n",
            " 26  NUMBEROFCARS         1782 non-null   object\n",
            " 27  BASEPOLICY           1782 non-null   object\n",
            "dtypes: int64(6), object(22)\n",
            "memory usage: 389.9+ KB\n"
          ]
        }
      ]
    },
    {
      "cell_type": "markdown",
      "source": [
        "Informacion general del DF."
      ],
      "metadata": {
        "id": "G3yuTYF25v9X"
      }
    },
    {
      "cell_type": "code",
      "source": [
        "import matplotlib.pyplot as plt\n",
        "import seaborn as sns\n",
        "\n",
        "sns.set(style=\"whitegrid\")\n",
        "plt.figure(figsize=(10, 6))\n",
        "sns.countplot(x='FAULT', hue='SEX', data=df)\n",
        "plt.title('Recuento por Sexo y Motivo')\n",
        "plt.xlabel('Motivo')\n",
        "plt.ylabel('Cantidad')\n",
        "plt.show()"
      ],
      "metadata": {
        "colab": {
          "base_uri": "https://localhost:8080/",
          "height": 573
        },
        "id": "vuDk1NnlwigO",
        "outputId": "5db4ed2b-48a6-4a2b-8c09-51367420fff6"
      },
      "execution_count": null,
      "outputs": [
        {
          "output_type": "display_data",
          "data": {
            "text/plain": [
              "<Figure size 1000x600 with 1 Axes>"
            ],
            "image/png": "[encoded data removed]"
          },
          "metadata": {}
        }
      ]
    },
    {
      "cell_type": "code",
      "source": [],
      "metadata": {
        "id": "z7WcI3OIsNwB"
      },
      "execution_count": null,
      "outputs": []
    }
  ]
}